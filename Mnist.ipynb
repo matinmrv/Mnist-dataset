{
 "cells": [
  {
   "cell_type": "markdown",
   "id": "48e68113",
   "metadata": {},
   "source": [
    "### Goal: Reach over 97% accuracy with the mnist dataset."
   ]
  },
  {
   "cell_type": "markdown",
   "id": "c0a45d0d",
   "metadata": {},
   "source": [
    "### Importing modules."
   ]
  },
  {
   "cell_type": "code",
   "execution_count": null,
   "id": "8cd3aa9d",
   "metadata": {},
   "outputs": [],
   "source": [
    "import pandas as pd\n",
    "import numpy as np\n",
    "import matplotlib.pyplot as plt\n",
    "from sklearn.datasets import fetch_openml"
   ]
  },
  {
   "cell_type": "code",
   "execution_count": null,
   "id": "7d657cd4",
   "metadata": {},
   "outputs": [],
   "source": [
    "from sklearn.linear_model import SGDClassifier\n",
    "from sklearn.metrics import precision_score, recall_score, f1_score\n",
    "from scipy.ndimage import shift\n",
    "from sklearn.neighbors import KNeighborsClassifier\n",
    "from sklearn.model_selection import GridSearchCV"
   ]
  },
  {
   "cell_type": "markdown",
   "id": "2f2b6d3d",
   "metadata": {},
   "source": [
    "MNIST dataset contains images, and DataFrames aren't ideal for that, so it's preferable to set as_fame=False to get the data as Numpy arrays instead."
   ]
  },
  {
   "cell_type": "code",
   "execution_count": null,
   "id": "3592e8c6",
   "metadata": {},
   "outputs": [],
   "source": [
    "mnist = fetch_openml(\"mnist_784\", as_frame=False)"
   ]
  },
  {
   "cell_type": "code",
   "execution_count": null,
   "id": "794407e5",
   "metadata": {},
   "outputs": [],
   "source": [
    "X, y = mnist.data, mnist.target"
   ]
  },
  {
   "cell_type": "code",
   "execution_count": null,
   "id": "b5c5c366",
   "metadata": {},
   "outputs": [],
   "source": [
    "print(X.shape)\n",
    "print(y.shape)"
   ]
  },
  {
   "cell_type": "markdown",
   "id": "756718d5",
   "metadata": {},
   "source": [
    "Let's take a peek at one digit from the dataset."
   ]
  },
  {
   "cell_type": "code",
   "execution_count": null,
   "id": "beb38604",
   "metadata": {},
   "outputs": [],
   "source": [
    "def plot_digit(image_data):\n",
    "    image = image_data.reshape(28, 28)\n",
    "    plt.imshow(image, cmap=\"binary\")\n",
    "    plt.axis(\"off\")\n",
    "\n",
    "some_digit = X[12]\n",
    "plot_digit(some_digit)\n",
    "plt.show()\n",
    "y[12]"
   ]
  },
  {
   "cell_type": "markdown",
   "id": "54f875fe",
   "metadata": {},
   "source": [
    "### Spliting the dataset."
   ]
  },
  {
   "cell_type": "markdown",
   "id": "7e007f3c",
   "metadata": {},
   "source": [
    "The MNIST dataset returned by fetch_openml() is already split into training set(the first 60,000) and a test set(the last 10,000 images).\n",
    "The training set is already shuffled for us, which is good because this guarantees that all cross-validation folds will be similar so they won't preform poorly due to similar instances.(~skewed dataset)"
   ]
  },
  {
   "cell_type": "code",
   "execution_count": null,
   "id": "4ea3a868",
   "metadata": {},
   "outputs": [],
   "source": [
    "X_train, X_test, y_train, y_test = X[:60000], X[60000:], y[:60000], y[60000:]"
   ]
  },
  {
   "cell_type": "markdown",
   "id": "a08fe345",
   "metadata": {},
   "source": [
    "First 100 digits of the dataset to get more sense of the data that we are dealing with."
   ]
  },
  {
   "cell_type": "code",
   "execution_count": null,
   "id": "c28707df",
   "metadata": {},
   "outputs": [],
   "source": [
    "plt.figure(figsize=(9, 9))\n",
    "for idx, image_data in enumerate(X[:100]):\n",
    "    plt.subplot(10, 10, idx + 1)\n",
    "    plot_digit(image_data)\n",
    "plt.subplots_adjust(wspace=0, hspace=0)"
   ]
  },
  {
   "cell_type": "code",
   "execution_count": null,
   "id": "f7b76893",
   "metadata": {},
   "outputs": [],
   "source": [
    "knn_clf = KNeighborsClassifier()\n",
    "knn_clf.fit(X_train, y_train)\n",
    "baseline_accuracy = knn_clf.score(X_test, y_test)\n",
    "baseline_accuracy"
   ]
  },
  {
   "cell_type": "markdown",
   "id": "4a606294",
   "metadata": {},
   "source": [
    "I want to tune the hyperparameters.To speed up the search, let's train only on the first 10,000 images:"
   ]
  },
  {
   "cell_type": "code",
   "execution_count": null,
   "id": "64bbbf21",
   "metadata": {},
   "outputs": [],
   "source": [
    "param_grid = [{\"weights\": [\"uniform\", \"distance\"], 'n_neighbors': [3, 4, 5, 6]}]\n",
    "\n",
    "knn_clf = KNeighborsClassifier()\n",
    "grid_search = GridSearchCV(knn_clf, param_grid, cv=5)\n",
    "grid_search.fit(X_train[:10_000], y_train[:10_000])"
   ]
  },
  {
   "cell_type": "code",
   "execution_count": null,
   "id": "4dffcf10",
   "metadata": {},
   "outputs": [],
   "source": [
    "grid_search.best_params_"
   ]
  },
  {
   "cell_type": "code",
   "execution_count": null,
   "id": "42986e83",
   "metadata": {},
   "outputs": [],
   "source": [
    "grid_search.best_score_"
   ]
  },
  {
   "cell_type": "markdown",
   "id": "9c5d884d",
   "metadata": {},
   "source": [
    "The score dropped since I only trained the model on 10,000 images.So I will take the best model and train it again on the full training set:"
   ]
  },
  {
   "cell_type": "code",
   "execution_count": null,
   "id": "dfa439ff",
   "metadata": {},
   "outputs": [],
   "source": [
    "grid_search.best_estimator_.fit(X_train, y_train)\n",
    "y_predict = grid_search.predict(X_test)"
   ]
  },
  {
   "cell_type": "code",
   "execution_count": null,
   "id": "2ded3d35",
   "metadata": {},
   "outputs": [],
   "source": [
    "cm = confusion_matrix(y_test, y_predict)\n",
    "cm"
   ]
  },
  {
   "cell_type": "markdown",
   "id": "94821339",
   "metadata": {},
   "source": [
    "Each row in a confusion matrix represents an actuall class, while each column represents a predicted class."
   ]
  },
  {
   "cell_type": "code",
   "execution_count": null,
   "id": "561bcd2b",
   "metadata": {},
   "outputs": [],
   "source": [
    "precision_score(y_test, y_predict, average=\"weighted\")"
   ]
  },
  {
   "cell_type": "code",
   "execution_count": null,
   "id": "d92d14b1",
   "metadata": {},
   "outputs": [],
   "source": [
    "recall_score(y_test, y_predict, average=\"weighted\")"
   ]
  },
  {
   "cell_type": "code",
   "execution_count": null,
   "id": "58af3307",
   "metadata": {},
   "outputs": [],
   "source": [
    "f1_score(y_test, y_predict, average=\"weighted\")"
   ]
  },
  {
   "cell_type": "markdown",
   "id": "5b483025",
   "metadata": {},
   "source": [
    "# Data augmentation\n",
    "Let's see what happens if we augment the data by shifting it one pixel."
   ]
  },
  {
   "cell_type": "code",
   "execution_count": null,
   "id": "a18d2f89",
   "metadata": {},
   "outputs": [],
   "source": [
    "def shift_image(image, dx, dy):\n",
    "    image = image.reshape((28, 28))\n",
    "    shifted_image = shift(image, [dy, dx], cval=0, mode=\"constant\")\n",
    "    return shifted_image.reshape([-1])"
   ]
  },
  {
   "cell_type": "code",
   "execution_count": null,
   "id": "12096f83",
   "metadata": {},
   "outputs": [],
   "source": [
    "image = X_train[1000]\n",
    "shifted_image_down = shift_image(image, 0, 5)\n",
    "shifted_image_left = shift_image(image, -5, 0)\n",
    "\n",
    "plt.figure(figsize=(12, 3))\n",
    "plt.subplot(131)\n",
    "plt.title(\"Original\")\n",
    "plt.imshow(image.reshape(28, 28),\n",
    "           interpolation=\"nearest\", cmap=\"Greys\")\n",
    "plt.subplot(132)\n",
    "plt.title(\"Shifted down\")\n",
    "plt.imshow(shifted_image_down.reshape(28, 28),\n",
    "           interpolation=\"nearest\", cmap=\"Greys\")\n",
    "plt.subplot(133)\n",
    "plt.title(\"Shifted left\")\n",
    "plt.imshow(shifted_image_left.reshape(28, 28),\n",
    "           interpolation=\"nearest\", cmap=\"Greys\")\n",
    "plt.show()"
   ]
  },
  {
   "cell_type": "markdown",
   "id": "a2bd4fc5",
   "metadata": {},
   "source": [
    "It is working. So I will create an augmented training set by shifting every image left, right, up and down one pixel:"
   ]
  },
  {
   "cell_type": "code",
   "execution_count": null,
   "id": "99bb7900",
   "metadata": {},
   "outputs": [],
   "source": [
    "X_train_augmented = [image for image in X_train]\n",
    "y_train_augmented = [label for label in y_train]\n",
    "\n",
    "for dx, dy in ((-1, 0), (1, 0), (0, 1), (0, -1)):\n",
    "    for image, label in zip(X_train, y_train):\n",
    "        X_train_augmented.append(shift_image(image, dx, dy))\n",
    "        y_train_augmented.append(label)\n",
    "        \n",
    "X_train_augmented = np.array(X_train_augmented)\n",
    "y_train_augmented = np.array(y_train_augmented)"
   ]
  },
  {
   "cell_type": "markdown",
   "id": "5dcb12c6",
   "metadata": {},
   "source": [
    "If the augmented training set is not shuffled, all shifted images will be grouped together:"
   ]
  },
  {
   "cell_type": "code",
   "execution_count": null,
   "id": "386810f0",
   "metadata": {},
   "outputs": [],
   "source": [
    "shuffle_idx = np.random.permutation(len(X_train_augmented))\n",
    "X_train_augmented = X_train_augmented[shuffle_idx]\n",
    "y_train_augmented = y_train_augmented[shuffle_idx]"
   ]
  },
  {
   "cell_type": "code",
   "execution_count": null,
   "id": "0ae5d1de",
   "metadata": {},
   "outputs": [],
   "source": [
    "knn_clf = KNeighborsClassifier(**grid_search.best_params_)"
   ]
  },
  {
   "cell_type": "code",
   "execution_count": null,
   "id": "c69f990e",
   "metadata": {},
   "outputs": [],
   "source": [
    "knn_clf.fit(X_train_augmented, y_train_augmented)"
   ]
  },
  {
   "cell_type": "code",
   "execution_count": null,
   "id": "d1bcf080",
   "metadata": {},
   "outputs": [],
   "source": [
    "precision_score(y_test, y_predict, average=\"weighted\")\n",
    "recall_score(y_test, y_predict, average=\"weighted\")\n",
    "f1_score(y_test, y_predict, average=\"weighted\")"
   ]
  },
  {
   "cell_type": "code",
   "execution_count": null,
   "id": "5e89f8d5",
   "metadata": {},
   "outputs": [],
   "source": [
    "augmented_accuracy = knn_clf.score(X_test, y_test)\n",
    "augmented_accuracy"
   ]
  },
  {
   "cell_type": "code",
   "execution_count": null,
   "id": "5e9bf8ba",
   "metadata": {},
   "outputs": [],
   "source": [
    "error_rate_change = (1 - augmented_accuracy) / (1 - tuned_accuracy) - 1\n",
    "print(f\"error_rate_change = {error_rate_change:.0%}\")"
   ]
  },
  {
   "cell_type": "markdown",
   "id": "895805d3",
   "metadata": {},
   "source": [
    "Nice. Error rate drops quite a bit."
   ]
  }
 ],
 "metadata": {
  "kernelspec": {
   "display_name": "Python 3 (ipykernel)",
   "language": "python",
   "name": "python3"
  },
  "language_info": {
   "codemirror_mode": {
    "name": "ipython",
    "version": 3
   },
   "file_extension": ".py",
   "mimetype": "text/x-python",
   "name": "python",
   "nbconvert_exporter": "python",
   "pygments_lexer": "ipython3",
   "version": "3.10.6"
  }
 },
 "nbformat": 4,
 "nbformat_minor": 5
}
